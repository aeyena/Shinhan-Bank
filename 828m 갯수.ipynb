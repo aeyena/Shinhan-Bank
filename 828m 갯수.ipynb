{
 "cells": [
  {
   "cell_type": "code",
   "execution_count": 1,
   "id": "7fc164e6",
   "metadata": {},
   "outputs": [
    {
     "data": {
      "text/html": [
       "<div>\n",
       "<style scoped>\n",
       "    .dataframe tbody tr th:only-of-type {\n",
       "        vertical-align: middle;\n",
       "    }\n",
       "\n",
       "    .dataframe tbody tr th {\n",
       "        vertical-align: top;\n",
       "    }\n",
       "\n",
       "    .dataframe thead th {\n",
       "        text-align: right;\n",
       "    }\n",
       "</style>\n",
       "<table border=\"1\" class=\"dataframe\">\n",
       "  <thead>\n",
       "    <tr style=\"text-align: right;\">\n",
       "      <th></th>\n",
       "      <th>주소</th>\n",
       "      <th>경도</th>\n",
       "      <th>위도</th>\n",
       "      <th>타입</th>\n",
       "    </tr>\n",
       "  </thead>\n",
       "  <tbody>\n",
       "    <tr>\n",
       "      <th>0</th>\n",
       "      <td>167970102</td>\n",
       "      <td>129.033262</td>\n",
       "      <td>35.115323</td>\n",
       "      <td>bus</td>\n",
       "    </tr>\n",
       "    <tr>\n",
       "      <th>1</th>\n",
       "      <td>169310303</td>\n",
       "      <td>129.033030</td>\n",
       "      <td>35.115283</td>\n",
       "      <td>bus</td>\n",
       "    </tr>\n",
       "    <tr>\n",
       "      <th>2</th>\n",
       "      <td>167970301</td>\n",
       "      <td>129.031678</td>\n",
       "      <td>35.115075</td>\n",
       "      <td>bus</td>\n",
       "    </tr>\n",
       "    <tr>\n",
       "      <th>3</th>\n",
       "      <td>167840102</td>\n",
       "      <td>129.032160</td>\n",
       "      <td>35.114921</td>\n",
       "      <td>bus</td>\n",
       "    </tr>\n",
       "    <tr>\n",
       "      <th>4</th>\n",
       "      <td>167970302</td>\n",
       "      <td>129.029858</td>\n",
       "      <td>35.114473</td>\n",
       "      <td>bus</td>\n",
       "    </tr>\n",
       "  </tbody>\n",
       "</table>\n",
       "</div>"
      ],
      "text/plain": [
       "          주소          경도         위도   타입\n",
       "0  167970102  129.033262  35.115323  bus\n",
       "1  169310303  129.033030  35.115283  bus\n",
       "2  167970301  129.031678  35.115075  bus\n",
       "3  167840102  129.032160  35.114921  bus\n",
       "4  167970302  129.029858  35.114473  bus"
      ]
     },
     "execution_count": 1,
     "metadata": {},
     "output_type": "execute_result"
    }
   ],
   "source": [
    "import pandas as pd\n",
    "\n",
    "# 파일 불러오기\n",
    "total_df = pd.read_csv(\"C:/Users/yena/Documents/대학4-1/전공종합설계및논문/data/버정지하철경로당시장자동화_통합본.csv\")\n",
    "total_df.head()"
   ]
  },
  {
   "cell_type": "code",
   "execution_count": 2,
   "id": "92013ae6",
   "metadata": {
    "scrolled": true
   },
   "outputs": [
    {
     "data": {
      "text/html": [
       "<div>\n",
       "<style scoped>\n",
       "    .dataframe tbody tr th:only-of-type {\n",
       "        vertical-align: middle;\n",
       "    }\n",
       "\n",
       "    .dataframe tbody tr th {\n",
       "        vertical-align: top;\n",
       "    }\n",
       "\n",
       "    .dataframe thead th {\n",
       "        text-align: right;\n",
       "    }\n",
       "</style>\n",
       "<table border=\"1\" class=\"dataframe\">\n",
       "  <thead>\n",
       "    <tr style=\"text-align: right;\">\n",
       "      <th></th>\n",
       "      <th>Y</th>\n",
       "      <th>X</th>\n",
       "    </tr>\n",
       "  </thead>\n",
       "  <tbody>\n",
       "    <tr>\n",
       "      <th>0</th>\n",
       "      <td>35.193112</td>\n",
       "      <td>128.989656</td>\n",
       "    </tr>\n",
       "    <tr>\n",
       "      <th>1</th>\n",
       "      <td>35.167150</td>\n",
       "      <td>129.148389</td>\n",
       "    </tr>\n",
       "    <tr>\n",
       "      <th>2</th>\n",
       "      <td>35.094505</td>\n",
       "      <td>128.883088</td>\n",
       "    </tr>\n",
       "    <tr>\n",
       "      <th>3</th>\n",
       "      <td>35.095393</td>\n",
       "      <td>129.016036</td>\n",
       "    </tr>\n",
       "    <tr>\n",
       "      <th>4</th>\n",
       "      <td>35.153103</td>\n",
       "      <td>129.055708</td>\n",
       "    </tr>\n",
       "  </tbody>\n",
       "</table>\n",
       "</div>"
      ],
      "text/plain": [
       "           Y           X\n",
       "0  35.193112  128.989656\n",
       "1  35.167150  129.148389\n",
       "2  35.094505  128.883088\n",
       "3  35.095393  129.016036\n",
       "4  35.153103  129.055708"
      ]
     },
     "execution_count": 2,
     "metadata": {},
     "output_type": "execute_result"
    }
   ],
   "source": [
    "# 파일 불러오기\n",
    "bank_df = pd.read_csv(\"C:/Users/yena/Documents/대학4-1/전공종합설계및논문/data/bank_clustering_center.csv\")\n",
    "bank_df.head()"
   ]
  },
  {
   "cell_type": "code",
   "execution_count": 3,
   "id": "be04ecd4",
   "metadata": {},
   "outputs": [],
   "source": [
    "# pip install haversine"
   ]
  },
  {
   "cell_type": "code",
   "execution_count": 4,
   "id": "ab3ee00e",
   "metadata": {
    "scrolled": true
   },
   "outputs": [
    {
     "name": "stdout",
     "output_type": "stream",
     "text": [
      "[90, 35, 15, 116, 103, 84, 119]\n"
     ]
    }
   ],
   "source": [
    "from haversine import haversine\n",
    "\n",
    "# 거리가 828m 이하인 지역만 카운트\n",
    "l_count = []\n",
    "\n",
    "for i in range(len(bank_df)):\n",
    "    count = 0\n",
    "    for j in range(len(total_df)):\n",
    "        if haversine((total_df.loc[j]['위도'],total_df.loc[j]['경도']), (bank_df.loc[i]['Y'], bank_df.loc[i]['X']), unit = 'm') <= 828 :\n",
    "            count += 1\n",
    "        else:\n",
    "            continue\n",
    "    l_count.append(count)\n",
    "           \n",
    "print(l_count)\n",
    "    "
   ]
  },
  {
   "cell_type": "code",
   "execution_count": 5,
   "id": "7825c1a9",
   "metadata": {},
   "outputs": [],
   "source": [
    "count_df = pd.DataFrame({'위도':bank_df['Y'], '경도':bank_df['X'], 'count':l_count})"
   ]
  },
  {
   "cell_type": "code",
   "execution_count": 6,
   "id": "56ee9e10",
   "metadata": {},
   "outputs": [],
   "source": [
    "count_df.to_csv(\"C:/Users/yena/Documents/대학4-1/전공종합설계및논문/data/bank_center_final.csv\",encoding='utf-8')"
   ]
  }
 ],
 "metadata": {
  "kernelspec": {
   "display_name": "Python 3 (ipykernel)",
   "language": "python",
   "name": "python3"
  },
  "language_info": {
   "codemirror_mode": {
    "name": "ipython",
    "version": 3
   },
   "file_extension": ".py",
   "mimetype": "text/x-python",
   "name": "python",
   "nbconvert_exporter": "python",
   "pygments_lexer": "ipython3",
   "version": "3.9.7"
  }
 },
 "nbformat": 4,
 "nbformat_minor": 5
}
