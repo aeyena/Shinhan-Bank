{
 "cells": [
  {
   "cell_type": "code",
   "execution_count": 1,
   "id": "e6643c6e",
   "metadata": {},
   "outputs": [],
   "source": [
    "import pandas as pd\n",
    "import numpy as np\n",
    "from sklearn.preprocessing import MinMaxScaler\n",
    "import matplotlib.pyplot as plt\n",
    "import seaborn as sns\n",
    "import folium\n",
    "from yellowbrick.cluster import KElbowVisualizer\n",
    "from sklearn.cluster import KMeans\n",
    "from haversine import haversine"
   ]
  },
  {
   "cell_type": "code",
   "execution_count": 2,
   "id": "0e058eaa",
   "metadata": {},
   "outputs": [],
   "source": [
    "from scipy.stats import gmean "
   ]
  },
  {
   "cell_type": "code",
   "execution_count": 3,
   "id": "95d3ba4e",
   "metadata": {},
   "outputs": [
    {
     "data": {
      "text/html": [
       "<div>\n",
       "<style scoped>\n",
       "    .dataframe tbody tr th:only-of-type {\n",
       "        vertical-align: middle;\n",
       "    }\n",
       "\n",
       "    .dataframe tbody tr th {\n",
       "        vertical-align: top;\n",
       "    }\n",
       "\n",
       "    .dataframe thead th {\n",
       "        text-align: right;\n",
       "    }\n",
       "</style>\n",
       "<table border=\"1\" class=\"dataframe\">\n",
       "  <thead>\n",
       "    <tr style=\"text-align: right;\">\n",
       "      <th></th>\n",
       "      <th>Unnamed: 0</th>\n",
       "      <th>입력주소</th>\n",
       "      <th>Unnamed: 2</th>\n",
       "      <th>Y</th>\n",
       "      <th>X</th>\n",
       "      <th>cluster</th>\n",
       "      <th>subway_dist</th>\n",
       "      <th>bus_dist</th>\n",
       "      <th>shinhan_dist</th>\n",
       "      <th>senior_dist</th>\n",
       "      <th>traditional_market_dist</th>\n",
       "      <th>pop</th>\n",
       "    </tr>\n",
       "  </thead>\n",
       "  <tbody>\n",
       "    <tr>\n",
       "      <th>0</th>\n",
       "      <td>0</td>\n",
       "      <td>부산광역시 부산진구 부전동 206-47</td>\n",
       "      <td>부전제2동</td>\n",
       "      <td>35.154269</td>\n",
       "      <td>129.060463</td>\n",
       "      <td>4</td>\n",
       "      <td>960.458993</td>\n",
       "      <td>829.169784</td>\n",
       "      <td>4859.409370</td>\n",
       "      <td>1430.614347</td>\n",
       "      <td>1578.630381</td>\n",
       "      <td>10808</td>\n",
       "    </tr>\n",
       "    <tr>\n",
       "      <th>1</th>\n",
       "      <td>1</td>\n",
       "      <td>부산광역시 중구 해관로 7 (동광동1가)</td>\n",
       "      <td>동광동</td>\n",
       "      <td>35.099436</td>\n",
       "      <td>129.035601</td>\n",
       "      <td>3</td>\n",
       "      <td>1271.640482</td>\n",
       "      <td>372.031623</td>\n",
       "      <td>3601.804737</td>\n",
       "      <td>3441.781269</td>\n",
       "      <td>751.272332</td>\n",
       "      <td>2539</td>\n",
       "    </tr>\n",
       "    <tr>\n",
       "      <th>2</th>\n",
       "      <td>2</td>\n",
       "      <td>부산광역시 동구 범일로 84 (범일동)</td>\n",
       "      <td>범일제2동</td>\n",
       "      <td>35.137482</td>\n",
       "      <td>129.059730</td>\n",
       "      <td>4</td>\n",
       "      <td>1027.792318</td>\n",
       "      <td>2269.243928</td>\n",
       "      <td>5792.134303</td>\n",
       "      <td>2224.840906</td>\n",
       "      <td>866.914250</td>\n",
       "      <td>7761</td>\n",
       "    </tr>\n",
       "    <tr>\n",
       "      <th>3</th>\n",
       "      <td>3</td>\n",
       "      <td>부산광역시 중구 구덕로 86 (남포동6가)</td>\n",
       "      <td>남포동</td>\n",
       "      <td>35.097585</td>\n",
       "      <td>129.026365</td>\n",
       "      <td>3</td>\n",
       "      <td>853.276395</td>\n",
       "      <td>1086.899207</td>\n",
       "      <td>2829.549387</td>\n",
       "      <td>2579.278417</td>\n",
       "      <td>248.643743</td>\n",
       "      <td>859</td>\n",
       "    </tr>\n",
       "    <tr>\n",
       "      <th>4</th>\n",
       "      <td>4</td>\n",
       "      <td>부산광역시 금정구 장전로 28 (장전동)</td>\n",
       "      <td>장전제2동</td>\n",
       "      <td>35.228588</td>\n",
       "      <td>129.085806</td>\n",
       "      <td>6</td>\n",
       "      <td>3114.471484</td>\n",
       "      <td>2615.242300</td>\n",
       "      <td>4445.873709</td>\n",
       "      <td>2538.840904</td>\n",
       "      <td>814.518381</td>\n",
       "      <td>25959</td>\n",
       "    </tr>\n",
       "  </tbody>\n",
       "</table>\n",
       "</div>"
      ],
      "text/plain": [
       "   Unnamed: 0                     입력주소 Unnamed: 2          Y           X  \\\n",
       "0           0    부산광역시 부산진구 부전동 206-47      부전제2동  35.154269  129.060463   \n",
       "1           1   부산광역시 중구 해관로 7 (동광동1가)        동광동  35.099436  129.035601   \n",
       "2           2    부산광역시 동구 범일로 84 (범일동)      범일제2동  35.137482  129.059730   \n",
       "3           3  부산광역시 중구 구덕로 86 (남포동6가)        남포동  35.097585  129.026365   \n",
       "4           4   부산광역시 금정구 장전로 28 (장전동)      장전제2동  35.228588  129.085806   \n",
       "\n",
       "   cluster  subway_dist     bus_dist  shinhan_dist  senior_dist  \\\n",
       "0        4   960.458993   829.169784   4859.409370  1430.614347   \n",
       "1        3  1271.640482   372.031623   3601.804737  3441.781269   \n",
       "2        4  1027.792318  2269.243928   5792.134303  2224.840906   \n",
       "3        3   853.276395  1086.899207   2829.549387  2579.278417   \n",
       "4        6  3114.471484  2615.242300   4445.873709  2538.840904   \n",
       "\n",
       "   traditional_market_dist    pop  \n",
       "0              1578.630381  10808  \n",
       "1               751.272332   2539  \n",
       "2               866.914250   7761  \n",
       "3               248.643743    859  \n",
       "4               814.518381  25959  "
      ]
     },
     "execution_count": 3,
     "metadata": {},
     "output_type": "execute_result"
    }
   ],
   "source": [
    "df = pd.read_csv(\"bank_dist_최종.csv\")\n",
    "df.head()"
   ]
  },
  {
   "cell_type": "code",
   "execution_count": 20,
   "id": "55f44024",
   "metadata": {
    "scrolled": false
   },
   "outputs": [],
   "source": [
    "ahp = pd.read_csv(\"설문 응답.csv\")\n",
    "ahp02=ahp.to_numpy()"
   ]
  },
  {
   "cell_type": "code",
   "execution_count": 21,
   "id": "899c695a",
   "metadata": {},
   "outputs": [
    {
     "name": "stdout",
     "output_type": "stream",
     "text": [
      "[[1.         0.53831545 0.33991397 ... 0.30447676 0.41031917 0.4646334 ]\n",
      " [1.85764686 1.         0.79176532 ... 0.70922104 0.95576095 1.08227567]\n",
      " [2.94192091 1.2630005  1.         ... 0.44783061 0.6035058  0.68339227]\n",
      " ...\n",
      " [3.28432296 1.40999764 2.23298714 ... 1.         0.54058823 0.61214626]\n",
      " [2.43712716 1.04628674 1.65698491 ... 1.84983681 1.         0.82494095]\n",
      " [2.15223442 0.92397901 1.46328843 ... 1.63359653 1.21220797 1.        ]]\n"
     ]
    }
   ],
   "source": [
    "# 각 행의 기하평균을 계산하여 1차원 배열로 변환\n",
    "gmean_arr = np.prod(ahp02, axis=1)**(1/ahp02.shape[1])\n",
    "\n",
    "# 쌍대비교행렬 초기화\n",
    "n = len(gmean_arr)\n",
    "pairwise_matrix = np.ones((n, n))\n",
    "\n",
    "# 쌍대비교행렬의 각 요소를 기하평균으로 계산\n",
    "for i in range(n):\n",
    "    for j in range(i+1, n):\n",
    "        a = gmean_arr[i]\n",
    "        b = gmean_arr[j]\n",
    "        gmean = np.sqrt(a * b)\n",
    "        pairwise_matrix[i, j] = gmean\n",
    "        pairwise_matrix[j, i] = 1/gmean\n",
    "\n",
    "print(pairwise_matrix)"
   ]
  },
  {
   "cell_type": "code",
   "execution_count": 22,
   "id": "21fc5447",
   "metadata": {
    "scrolled": false
   },
   "outputs": [],
   "source": [
    "np01=pairwise_matrix\n",
    "col_sums = np01.sum(axis=0)\n",
    "np02 = np01 / col_sums[np.newaxis, :]\n",
    "row_avg = np02.mean(axis=1) # 최종중요도(가중치)\n",
    "np03 = np01.dot(row_avg[:, np.newaxis])/row_avg[:, np.newaxis]\n",
    "consistency = (np03.mean(axis=0)-6)/5 # 일관성 지수"
   ]
  },
  {
   "cell_type": "code",
   "execution_count": 23,
   "id": "792b5c52",
   "metadata": {
    "scrolled": true
   },
   "outputs": [
    {
     "name": "stdout",
     "output_type": "stream",
     "text": [
      "최종 중요도(자동화기기) : 0.006984476176396388\n",
      "최종 중요도(버스정류장) : 0.016131164424679673\n",
      "최종 중요도(지하철역) : 0.010703644441978577\n",
      "최종 중요도(전통시장) : 0.009936744237904851\n",
      "최종 중요도(경로당) : 0.012802246472550448\n",
      "최종 중요도(노인인구) : 0.009824317545320727\n"
     ]
    }
   ],
   "source": [
    "for i, j in zip(['자동화기기', '버스정류장', '지하철역', '전통시장', '경로당','노인인구'], row_avg):\n",
    "    print('최종 중요도({}) : {}'.format(i, j))"
   ]
  },
  {
   "cell_type": "code",
   "execution_count": 24,
   "id": "58ce14f9",
   "metadata": {
    "scrolled": true
   },
   "outputs": [
    {
     "name": "stdout",
     "output_type": "stream",
     "text": [
      "열의 합 : [145.10223316  62.60555338  96.84254172 108.28373491  80.28534621\n",
      " 121.31771936  66.85892055  53.09458036  80.14865259 108.41322325\n",
      "  57.01389458  99.04777627  96.56134428  95.84287991  57.81822163\n",
      " 103.48713404  78.25528879  56.88459716  88.38885888  75.20226243\n",
      "  62.55021869  86.42632925  63.8068581   68.36577245  66.08595599\n",
      "  61.57024907  53.78478664  64.70022006  53.9553435   54.64943489\n",
      "  64.28051158  57.16613851  53.04684525  60.92472258  51.80225094\n",
      "  52.49504314  50.75604975  49.95266035  48.35172668  47.16981112\n",
      "  52.10647764  45.63818853  52.73428776  44.21744415  41.28091941\n",
      "  41.76208913  39.61278071  44.71346821  33.30160951  29.84055416\n",
      "  29.92049333  37.03230429  41.25419707]\n",
      "정규화 : [[0.00689169 0.00859853 0.00350997 ... 0.01017619 0.01108003 0.01126269]\n",
      " [0.01280233 0.01597302 0.0081758  ... 0.02370352 0.02580884 0.02623432]\n",
      " [0.02027481 0.02017394 0.01032604 ... 0.01496735 0.01629674 0.0165654 ]\n",
      " ...\n",
      " [0.02263454 0.02252193 0.02305792 ... 0.03342191 0.01459775 0.0148384 ]\n",
      " [0.01679593 0.01671236 0.01711009 ... 0.06182508 0.02700345 0.01999653]\n",
      " [0.01483254 0.01475874 0.01510998 ... 0.05459791 0.0327338  0.02423996]]\n",
      "가중치 : [0.00698448 0.01613116 0.01070364 0.00993674 0.01280225 0.00982432\n",
      " 0.01500784 0.01880601 0.0129968  0.01156912 0.0172771  0.01243643\n",
      " 0.01291316 0.01339187 0.01675803 0.01446545 0.01467238 0.01685966\n",
      " 0.01566125 0.0157395  0.01609822 0.01780439 0.01668357 0.01746628\n",
      " 0.01788172 0.01793359 0.01906868 0.01915772 0.01746075 0.01747154\n",
      " 0.02151217 0.0200965  0.01770933 0.02465323 0.01824049 0.02211284\n",
      " 0.01881137 0.02285225 0.02144748 0.02272932 0.01801079 0.0233701\n",
      " 0.0178095  0.02384039 0.02775665 0.02468026 0.02643952 0.02157541\n",
      " 0.03363205 0.03668113 0.03402685 0.02642281 0.02362591]\n",
      "최종 중요도(자동화기기) : 0.006984476176396388\n",
      "최종 중요도(버스정류장) : 0.016131164424679673\n",
      "최종 중요도(지하철역) : 0.010703644441978577\n",
      "최종 중요도(전통시장) : 0.009936744237904851\n",
      "최종 중요도(경로당) : 0.012802246472550448\n",
      "최종 중요도(노인인구) : 0.009824317545320727\n"
     ]
    }
   ],
   "source": [
    "col_sums = np01.sum(axis=0) # 열의 합\n",
    "print('열의 합 : {}'.format(col_sums))\n",
    "np02 = np01 / col_sums # 정규화(np01의 값을 동일한 열에 있는 col_sumns의 값으로 나눠줍니다.)\n",
    "print('정규화 : {}'.format(np02))\n",
    "row_avg = np02.mean(axis=1) # 속성별 중요도, 가중치(mean(axis=1)은 행의 평균을 계산합니다.)\n",
    "print('가중치 : {}'.format(row_avg))\n",
    "\n",
    "for i, j in zip(['자동화기기', '버스정류장', '지하철역', '전통시장', '경로당','노인인구'], row_avg):\n",
    "    print('최종 중요도({}) : {}'.format(i, j))"
   ]
  },
  {
   "cell_type": "code",
   "execution_count": 27,
   "id": "36e30003",
   "metadata": {},
   "outputs": [
    {
     "data": {
      "text/plain": [
       "10.426084039236235"
      ]
     },
     "execution_count": 27,
     "metadata": {},
     "output_type": "execute_result"
    }
   ],
   "source": [
    "consistency[0]"
   ]
  },
  {
   "cell_type": "code",
   "execution_count": null,
   "id": "4fa135b2",
   "metadata": {},
   "outputs": [],
   "source": []
  },
  {
   "cell_type": "code",
   "execution_count": 10,
   "id": "0f28adf7",
   "metadata": {},
   "outputs": [
    {
     "name": "stdout",
     "output_type": "stream",
     "text": [
      "[0.05163506 0.03584144 0.06023937 0.04261849 0.03991405 0.04614089\n",
      " 0.02461412 0.04307033 0.04609341 0.03242155 0.02618801 0.03724909\n",
      " 0.02493207 0.02407937 0.02378262 0.0272622  0.02056911 0.02429496\n",
      " 0.0267697  0.01713904 0.01555568 0.01811516 0.01434038 0.01805025\n",
      " 0.01548221 0.01421817 0.01270176 0.01930723 0.01296113 0.01446755\n",
      " 0.015235   0.01067368 0.01039809 0.01289947 0.00908288 0.00968099\n",
      " 0.00863006 0.00926617 0.00783261 0.00830603 0.00763216 0.00726488\n",
      " 0.00632877 0.00677027 0.00566167 0.00530741 0.00496267 0.00457685\n",
      " 0.00416542 0.00386035 0.00378609 0.00327326 0.00243459 0.00191618]\n"
     ]
    }
   ],
   "source": [
    "# 쌍대비교행렬의 열별 합을 구합니다.\n",
    "col_sum = np.sum(pairwise_matrix, axis=0)\n",
    "\n",
    "# 열의 합으로 쌍대비교행렬을 나누어 열별 비율을 구합니다.\n",
    "norm_matrix = pairwise_matrix / col_sum\n",
    "\n",
    "# 열별 비율의 평균을 구하여 각 기준의 가중치를 구합니다.\n",
    "weight = np.mean(norm_matrix, axis=1)\n",
    "\n",
    "# 가중치를 합하면 1이 되도록 정규화합니다.\n",
    "weight = weight / np.sum(weight)\n",
    "\n",
    "# 결과 출력\n",
    "print(weight)"
   ]
  },
  {
   "cell_type": "code",
   "execution_count": 11,
   "id": "0182f8db",
   "metadata": {},
   "outputs": [
    {
     "name": "stdout",
     "output_type": "stream",
     "text": [
      "최종 중요도(자동화기기) : 0.05163505652149283\n",
      "최종 중요도(버스정류장) : 0.03584143989133486\n",
      "최종 중요도(지하철역) : 0.0602393747500388\n",
      "최종 중요도(전통시장) : 0.042618488967925264\n",
      "최종 중요도(경로당) : 0.039914052854698845\n",
      "최종 중요도(노인인구) : 0.046140888622025394\n"
     ]
    }
   ],
   "source": [
    "for i, j in zip(['자동화기기', '버스정류장', '지하철역', '전통시장', '경로당','노인인구'], weight):\n",
    "    print('최종 중요도({}) : {}'.format(i, j))"
   ]
  },
  {
   "cell_type": "code",
   "execution_count": 12,
   "id": "35b040f4",
   "metadata": {},
   "outputs": [],
   "source": [
    "#스케일링\n",
    "scaler=MinMaxScaler()\n",
    "mas_scale = scaler.fit_transform(df[['subway_dist','bus_dist','shinhan_dist','senior_dist',\n",
    "                                      'traditional_market_dist','pop']])\n",
    "\n",
    "df_scale = pd.DataFrame(mas_scale)\n",
    "\n",
    "df_scale.to_csv(\"스케일링.csv\")"
   ]
  },
  {
   "cell_type": "code",
   "execution_count": null,
   "id": "90894d8c",
   "metadata": {},
   "outputs": [],
   "source": []
  },
  {
   "cell_type": "code",
   "execution_count": null,
   "id": "84c593d9",
   "metadata": {},
   "outputs": [],
   "source": []
  },
  {
   "cell_type": "code",
   "execution_count": null,
   "id": "ab17b4bf",
   "metadata": {},
   "outputs": [],
   "source": []
  },
  {
   "cell_type": "code",
   "execution_count": null,
   "id": "4336c5d1",
   "metadata": {},
   "outputs": [],
   "source": []
  },
  {
   "cell_type": "code",
   "execution_count": null,
   "id": "528bdc87",
   "metadata": {},
   "outputs": [],
   "source": []
  },
  {
   "cell_type": "code",
   "execution_count": null,
   "id": "3df817cb",
   "metadata": {},
   "outputs": [],
   "source": []
  },
  {
   "cell_type": "code",
   "execution_count": null,
   "id": "76a4ee3e",
   "metadata": {},
   "outputs": [],
   "source": []
  },
  {
   "cell_type": "code",
   "execution_count": null,
   "id": "9222611d",
   "metadata": {},
   "outputs": [],
   "source": []
  },
  {
   "cell_type": "code",
   "execution_count": null,
   "id": "0c252add",
   "metadata": {},
   "outputs": [],
   "source": []
  },
  {
   "cell_type": "code",
   "execution_count": null,
   "id": "7f08f0de",
   "metadata": {},
   "outputs": [],
   "source": []
  },
  {
   "cell_type": "code",
   "execution_count": null,
   "id": "a741201f",
   "metadata": {},
   "outputs": [],
   "source": []
  },
  {
   "cell_type": "code",
   "execution_count": null,
   "id": "79f97a1b",
   "metadata": {},
   "outputs": [],
   "source": []
  },
  {
   "cell_type": "code",
   "execution_count": null,
   "id": "7b95bebc",
   "metadata": {},
   "outputs": [],
   "source": []
  },
  {
   "cell_type": "code",
   "execution_count": null,
   "id": "523c063c",
   "metadata": {},
   "outputs": [],
   "source": []
  },
  {
   "cell_type": "code",
   "execution_count": null,
   "id": "7ee701b4",
   "metadata": {},
   "outputs": [],
   "source": []
  },
  {
   "cell_type": "code",
   "execution_count": null,
   "id": "cac214b3",
   "metadata": {},
   "outputs": [],
   "source": []
  },
  {
   "cell_type": "code",
   "execution_count": null,
   "id": "3f6bf5c4",
   "metadata": {},
   "outputs": [],
   "source": []
  },
  {
   "cell_type": "code",
   "execution_count": null,
   "id": "90601a88",
   "metadata": {},
   "outputs": [],
   "source": []
  },
  {
   "cell_type": "code",
   "execution_count": null,
   "id": "52b99809",
   "metadata": {},
   "outputs": [],
   "source": []
  },
  {
   "cell_type": "code",
   "execution_count": null,
   "id": "77f0aea7",
   "metadata": {},
   "outputs": [],
   "source": []
  },
  {
   "cell_type": "code",
   "execution_count": null,
   "id": "1cbaeb42",
   "metadata": {},
   "outputs": [],
   "source": []
  },
  {
   "cell_type": "code",
   "execution_count": null,
   "id": "272dab2e",
   "metadata": {},
   "outputs": [],
   "source": []
  },
  {
   "cell_type": "code",
   "execution_count": null,
   "id": "b39ada78",
   "metadata": {},
   "outputs": [],
   "source": []
  },
  {
   "cell_type": "code",
   "execution_count": null,
   "id": "33e50416",
   "metadata": {},
   "outputs": [],
   "source": []
  },
  {
   "cell_type": "code",
   "execution_count": null,
   "id": "bdbb9377",
   "metadata": {},
   "outputs": [],
   "source": []
  },
  {
   "cell_type": "code",
   "execution_count": null,
   "id": "933f186d",
   "metadata": {},
   "outputs": [],
   "source": []
  },
  {
   "cell_type": "code",
   "execution_count": null,
   "id": "0c6f107e",
   "metadata": {},
   "outputs": [],
   "source": []
  },
  {
   "cell_type": "code",
   "execution_count": null,
   "id": "ffc34c2e",
   "metadata": {},
   "outputs": [],
   "source": []
  },
  {
   "cell_type": "code",
   "execution_count": null,
   "id": "20be6a70",
   "metadata": {},
   "outputs": [],
   "source": []
  },
  {
   "cell_type": "code",
   "execution_count": null,
   "id": "402cb31d",
   "metadata": {},
   "outputs": [],
   "source": []
  },
  {
   "cell_type": "code",
   "execution_count": null,
   "id": "cc4debef",
   "metadata": {},
   "outputs": [],
   "source": []
  }
 ],
 "metadata": {
  "kernelspec": {
   "display_name": "Python 3 (ipykernel)",
   "language": "python",
   "name": "python3"
  },
  "language_info": {
   "codemirror_mode": {
    "name": "ipython",
    "version": 3
   },
   "file_extension": ".py",
   "mimetype": "text/x-python",
   "name": "python",
   "nbconvert_exporter": "python",
   "pygments_lexer": "ipython3",
   "version": "3.9.7"
  }
 },
 "nbformat": 4,
 "nbformat_minor": 5
}
